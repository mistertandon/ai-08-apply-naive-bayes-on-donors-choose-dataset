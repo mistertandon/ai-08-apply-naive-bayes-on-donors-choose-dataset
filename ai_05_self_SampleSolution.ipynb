{
 "cells": [
  {
   "cell_type": "code",
   "execution_count": null,
   "metadata": {},
   "outputs": [],
   "source": [
    "import pandas as pd\n",
    "import numpy as np"
   ]
  },
  {
   "cell_type": "code",
   "execution_count": null,
   "metadata": {},
   "outputs": [],
   "source": [
    "import matplotlib.pyplot as plt\n",
    "%matplotlib inline"
   ]
  },
  {
   "cell_type": "code",
   "execution_count": null,
   "metadata": {},
   "outputs": [],
   "source": [
    "from sklearn.preprocessing import Normalizer\n",
    "\n",
    "from sklearn.feature_extraction.text import CountVectorizer, TfidfVectorizer\n",
    "\n",
    "from sklearn import metrics\n",
    "from sklearn.metrics import roc_auc_score, roc_curve, auc, confusion_matrix\n",
    "\n",
    "from sklearn.model_selection import train_test_split, RandomizedSearchCV\n",
    "\n",
    "from sklearn.neighbors import KNeighborsClassifier"
   ]
  },
  {
   "cell_type": "code",
   "execution_count": null,
   "metadata": {},
   "outputs": [],
   "source": [
    "from scipy.sparse import hstack"
   ]
  },
  {
   "cell_type": "code",
   "execution_count": null,
   "metadata": {},
   "outputs": [],
   "source": [
    "import nltk"
   ]
  },
  {
   "cell_type": "code",
   "execution_count": null,
   "metadata": {},
   "outputs": [],
   "source": [
    "import plotly.graph_objects as go\n",
    "from plotly.offline import offline\n",
    "offline.init_notebook_mode()"
   ]
  },
  {
   "cell_type": "code",
   "execution_count": null,
   "metadata": {},
   "outputs": [],
   "source": [
    "import os\n",
    "from tqdm import tqdm\n",
    "import re\n",
    "import pickle\n",
    "from collections import Counter"
   ]
  },
  {
   "cell_type": "code",
   "execution_count": null,
   "metadata": {},
   "outputs": [],
   "source": [
    "def _print(statement, arguments, do_print = True):\n",
    "    \n",
    "    if do_print:\n",
    "        print(statement.format(*arguments))\n",
    "    \n",
    "    return"
   ]
  },
  {
   "cell_type": "code",
   "execution_count": null,
   "metadata": {},
   "outputs": [],
   "source": [
    "def print_lb(character, num = 60):\n",
    "\n",
    "    print(character*num)\n",
    "    \n",
    "    return"
   ]
  },
  {
   "cell_type": "markdown",
   "metadata": {},
   "source": [
    "# [1] K Nearest Neighbor"
   ]
  },
  {
   "cell_type": "markdown",
   "metadata": {},
   "source": [
    "## [1.1] Loading Data"
   ]
  },
  {
   "cell_type": "code",
   "execution_count": null,
   "metadata": {},
   "outputs": [],
   "source": [
    "data = pd.read_csv(\"./data/preprocessed_data.csv\", nrows = 5000)\n",
    "_print(\"Top 3 rows of DataFrame : \\n{}\", [data.head(n = 3)])"
   ]
  },
  {
   "cell_type": "code",
   "execution_count": null,
   "metadata": {},
   "outputs": [],
   "source": [
    "columns = data.columns.values\n",
    "_print(\"DataFrame columns: {}\", [columns], True)"
   ]
  },
  {
   "cell_type": "code",
   "execution_count": null,
   "metadata": {},
   "outputs": [],
   "source": [
    "Y = data['project_is_approved'].values\n",
    "X = data.drop(labels = 'project_is_approved', axis = 1, inplace = False)"
   ]
  },
  {
   "cell_type": "code",
   "execution_count": null,
   "metadata": {},
   "outputs": [],
   "source": [
    "_print(\"1. Type of X part of the Data: \\n{}\\n\", [type(X)])\n",
    "_print(\"2. Shape of X part of the Data: \\n{}\\n\", [X.shape])\n",
    "_print(\"3. X part of the Data: \\n{}\", [X.head(n = 3)])"
   ]
  },
  {
   "cell_type": "code",
   "execution_count": null,
   "metadata": {},
   "outputs": [],
   "source": [
    "_print(\"1. Type of Y part of the Data: \\n{}\\n\", [type(Y)])\n",
    "_print(\"2. Shape of Y part of the Data: \\n{}\\n\", [Y.shape])\n",
    "_print(\"3. Y part of the Data: \\n{}\", [Y[:5]])"
   ]
  },
  {
   "cell_type": "markdown",
   "metadata": {},
   "source": [
    "## [1.2] Splitting data into Train and Cross Validation: Startified Sampling"
   ]
  },
  {
   "cell_type": "code",
   "execution_count": null,
   "metadata": {},
   "outputs": [],
   "source": [
    "D_Train, d_test, Y_Train, y_test = train_test_split(X, Y, test_size = 0.3, stratify = Y)"
   ]
  },
  {
   "cell_type": "code",
   "execution_count": null,
   "metadata": {},
   "outputs": [],
   "source": [
    "d_train, d_cv, y_train, y_cv = train_test_split(D_Train, Y_Train, test_size = 0.3, stratify = Y_Train)"
   ]
  },
  {
   "cell_type": "code",
   "execution_count": null,
   "metadata": {},
   "outputs": [],
   "source": [
    "_print('d_train type: {}', [type(d_train)])\n",
    "_print('d_train shape: {}', [d_train.shape])\n",
    "_print('y_train shape: {}', [y_train.shape])\n"
   ]
  },
  {
   "cell_type": "code",
   "execution_count": null,
   "metadata": {},
   "outputs": [],
   "source": [
    "_print('d_cv type: {}', [type(d_cv)])\n",
    "_print('d_cv shape: {}', [d_cv.shape])\n",
    "_print('y_cv shape: {}', [y_cv.shape])"
   ]
  },
  {
   "cell_type": "code",
   "execution_count": null,
   "metadata": {},
   "outputs": [],
   "source": [
    "_print('d_test type: {}', [type(d_test)])\n",
    "_print('d_test shape: {}', [d_test.shape])\n",
    "_print('y_test shape: {}', [y_test.shape])"
   ]
  },
  {
   "cell_type": "markdown",
   "metadata": {},
   "source": [
    "## [1.3] Make Model Data Ready: encoding essay, and project title"
   ]
  },
  {
   "cell_type": "code",
   "execution_count": null,
   "metadata": {},
   "outputs": [],
   "source": [
    "ex = [\"classroom students should take break\",\n",
    "\"low income homes students receive free breakfast\",\n",
    "\"students will receive low grades\"]"
   ]
  },
  {
   "cell_type": "code",
   "execution_count": null,
   "metadata": {},
   "outputs": [],
   "source": [
    "count_vectorizer = CountVectorizer()\n",
    "\n",
    "count_vectorizer.fit(ex)\n",
    "vectorizer = count_vectorizer.transform(ex)\n",
    "\n",
    "_print(\"Data Type of vectorizer: {}\\n\\n\", [type(vectorizer)])\n",
    "_print(\"Sparse Matrix: \\n{}\",[vectorizer.toarray()])"
   ]
  },
  {
   "cell_type": "code",
   "execution_count": null,
   "metadata": {},
   "outputs": [],
   "source": [
    "_print(\"Feature names: \\n{}\", [count_vectorizer.get_feature_names()])"
   ]
  },
  {
   "cell_type": "code",
   "execution_count": null,
   "metadata": {},
   "outputs": [],
   "source": [
    "count_vectorizer = CountVectorizer(min_df = 10, ngram_range = (1, 4), max_features = 5000)\n",
    "count_vectorizer.fit(d_train['essay'].values)"
   ]
  },
  {
   "cell_type": "markdown",
   "metadata": {},
   "source": [
    "> After vectorization shape of d_train_essay_bow, d_cv_essay_bow, d_test_essay_bow"
   ]
  },
  {
   "cell_type": "code",
   "execution_count": null,
   "metadata": {},
   "outputs": [],
   "source": [
    "d_train_essay_bow = count_vectorizer.transform(d_train['essay'].values)\n",
    "_print(\"Shape of d_train_essay_bow: {}\\n\", [d_train_essay_bow.shape])"
   ]
  },
  {
   "cell_type": "code",
   "execution_count": null,
   "metadata": {},
   "outputs": [],
   "source": [
    "d_cv_essay_bow = count_vectorizer.transform(d_cv['essay'].values)\n",
    "_print(\"Shape of d_cv_essay_bow: {}\\n\", [d_cv_essay_bow.shape])\n"
   ]
  },
  {
   "cell_type": "code",
   "execution_count": null,
   "metadata": {},
   "outputs": [],
   "source": [
    "d_test_essay_bow = count_vectorizer.transform(d_test['essay'].values)\n",
    "_print(\"Shape of d_test_essay_bow: {}\\n\", [d_test_essay_bow.shape])"
   ]
  },
  {
   "cell_type": "markdown",
   "metadata": {},
   "source": [
    "## [1.4] Make model data ready: Encoding numerical and categorical feature"
   ]
  },
  {
   "cell_type": "code",
   "execution_count": null,
   "metadata": {},
   "outputs": [],
   "source": [
    "\"\"\"\n",
    "[\n",
    " 'school_state' 'teacher_prefix' 'project_grade_category'\n",
    " 'teacher_number_of_previously_posted_projects' 'project_is_approved'\n",
    " 'clean_categories' 'clean_subcategories' 'essay' 'price'\n",
    " ]\n",
    " 'school_state' 'teacher_prefix' 'project_grade_category', 'clean_categories' 'clean_subcategories'\n",
    "\"\"\""
   ]
  },
  {
   "cell_type": "markdown",
   "metadata": {},
   "source": [
    "### [1.4.1] Encoding categorical feature: school_state"
   ]
  },
  {
   "cell_type": "code",
   "execution_count": null,
   "metadata": {},
   "outputs": [],
   "source": [
    "\"\"\"\n",
    "# Here we are encoding school_state columns using parameter binary = False\n",
    "# count_vectorizer_ss: Count Vectorizer school state\n",
    "count_vectorizer_ss = CountVectorizer(binary = True)\n",
    "\n",
    "count_vectorizer_ss.fit(d_train['school_state'])\n",
    "\n",
    "school_state_ohe = count_vectorizer_ss.transform(d_train['school_state'])\n",
    "_print(\"Type of school_state_ohe: {}\\n\", [type(school_state_ohe)])\n",
    "\n",
    "school_state_ohe_array = school_state_ohe.toarray()\n",
    "_print(\"Size of school_state_ohe: {}\\n\", [school_state_ohe_array.size])\n",
    "_print(\"school_state_ohe_array values: \\n{}\", [school_state_ohe_array])\n",
    "\n",
    "\"\"\"\n",
    "\n",
    "\"\"\"\n",
    "Type of school_state_ohe: <class 'scipy.sparse.csr.csr_matrix'>\n",
    "\n",
    "Size of school_state_ohe: 122500\n",
    "\n",
    "school_state_ohe_array values: \n",
    "[[0 0 0 ... 0 0 0]\n",
    " [0 0 0 ... 0 0 0]\n",
    " [0 0 0 ... 0 0 0]\n",
    " ...\n",
    " [0 0 0 ... 0 0 0]\n",
    " [0 0 0 ... 0 0 0]\n",
    " [0 0 0 ... 0 0 0]]\n",
    " \"\"\""
   ]
  },
  {
   "cell_type": "code",
   "execution_count": null,
   "metadata": {},
   "outputs": [],
   "source": [
    "count_vectorizer_ss = CountVectorizer(binary = False)"
   ]
  },
  {
   "cell_type": "code",
   "execution_count": null,
   "metadata": {},
   "outputs": [],
   "source": [
    "school_state_values = d_train['school_state'].values\n",
    "count_vectorizer_ss.fit(school_state_values)\n",
    "\n",
    "d_train_school_state_ohe = count_vectorizer_ss.transform(school_state_values)\n",
    "\n",
    "d_train_school_state_ohe = count_vectorizer_ss.transform(d_train['school_state'])\n",
    "d_cv_school_state_ohe = count_vectorizer_ss.transform(d_cv['school_state'])\n",
    "d_test_school_state_ohe = count_vectorizer_ss.transform(d_test['school_state'])\n",
    "\n",
    "_print(\"Type of d_train_school_state_ohe: {}\\n\", [type(d_train_school_state_ohe)])\n",
    "_print(\"Shape of d_train_school_state_ohe: {}\\n\", [d_train_school_state_ohe.shape])\n",
    "_print(\"Shape of d_cv_school_state_ohe: {}\\n\", [d_cv_school_state_ohe.shape])\n",
    "_print(\"Shape of d_test_school_state_ohe: {}\\n\", [d_test_school_state_ohe.shape])"
   ]
  },
  {
   "cell_type": "markdown",
   "metadata": {},
   "source": [
    "### [1.4.2] Encoding categorical feature: Teacher prefix"
   ]
  },
  {
   "cell_type": "code",
   "execution_count": null,
   "metadata": {},
   "outputs": [],
   "source": [
    "teacher_prefix_values = d_train['teacher_prefix'].values\n",
    "count_vectorizer_tp = CountVectorizer(binary = False)\n",
    "\n",
    "count_vectorizer_tp.fit(teacher_prefix_values)\n",
    "\n",
    "d_train_tp_ohe = count_vectorizer_tp.transform(teacher_prefix_values)\n",
    "d_cv_tp_ohe = count_vectorizer_tp.transform(d_cv['teacher_prefix'].values)\n",
    "d_test_tp_ohe = count_vectorizer_tp.transform(d_test['teacher_prefix'].values)\n",
    "\n",
    "_print(\"Type of d_train_tp_ohe: {}\\n\", [type(d_train_tp_ohe)])\n",
    "_print(\"Shape of d_train_tp_ohe: {} | y_train: {}\\n\", [d_train_tp_ohe.shape, y_train.shape])\n",
    "_print(\"Shape of d_cv_tp_ohe: {} | y_cv: {}\\n\", [d_cv_tp_ohe.shape, y_cv.shape])\n",
    "_print(\"Shape of d_test_tp_ohe: {} | d_test: {}\\n\", [d_test_tp_ohe.shape, y_test.shape])\n"
   ]
  },
  {
   "cell_type": "markdown",
   "metadata": {},
   "source": [
    "### [1.4.3] Encoding categorical feature: project_grade_category"
   ]
  },
  {
   "cell_type": "code",
   "execution_count": null,
   "metadata": {},
   "outputs": [],
   "source": [
    "project_grade_category_values = d_train['project_grade_category'].values\n",
    "\n",
    "count_vectorizer_pgc = CountVectorizer()\n",
    "count_vectorizer_pgc.fit(project_grade_category_values)"
   ]
  },
  {
   "cell_type": "code",
   "execution_count": null,
   "metadata": {},
   "outputs": [],
   "source": [
    "d_train_pgc_ohe = count_vectorizer_pgc.transform(project_grade_category_values)\n",
    "d_cv_pgc_ohe = count_vectorizer_pgc.transform(d_cv['project_grade_category'].values)\n",
    "d_test_pgc_ohe = count_vectorizer_pgc.transform(d_test['project_grade_category'].values)\n",
    "\n",
    "_print(\"Type of d_train_pgc_ohe: {}\\n\", [type(d_train_pgc_ohe)])\n",
    "_print(\"Shape of d_train_pgc_ohe: {} | y_train: {}\\n\", [d_train_pgc_ohe.shape, y_train.shape])\n",
    "_print(\"Shape of d_cv_pgc_ohe: {} | y_cv: {}\\n\", [d_cv_pgc_ohe.shape, y_cv.shape])\n",
    "_print(\"Shape of d_test_pgc_ohe: {} | d_test: {}\\n\", [d_test_pgc_ohe.shape, y_test.shape])"
   ]
  },
  {
   "cell_type": "markdown",
   "metadata": {},
   "source": [
    "### [1.4.4] Encoding numerical feature: price"
   ]
  },
  {
   "cell_type": "code",
   "execution_count": null,
   "metadata": {},
   "outputs": [],
   "source": [
    "normalizer = Normalizer()"
   ]
  },
  {
   "cell_type": "code",
   "execution_count": null,
   "metadata": {},
   "outputs": [],
   "source": [
    "price_values = d_train['price'].values\n",
    "_print(\"Type of price_values: {}\", [type(price_values)])\n",
    "_print(\"Size of price_values: {}\", [price_values.size])\n",
    "_print(\"Initial 5 values of price_values: {}\", [price_values[:5]])"
   ]
  },
  {
   "cell_type": "code",
   "execution_count": null,
   "metadata": {},
   "outputs": [],
   "source": [
    "normalizer.fit(price_values.reshape(1, -1))"
   ]
  },
  {
   "cell_type": "code",
   "execution_count": null,
   "metadata": {},
   "outputs": [],
   "source": [
    "d_train_price_en = normalizer.transform(price_values.reshape(1, -1))\n",
    "d_cv_price_en = normalizer.transform(d_cv['price'].values.reshape(1, -1))\n",
    "d_test_price_en = normalizer.transform(d_test['price'].values.reshape(1, -1))\n",
    "\n",
    "_print(\"1.Type of d_train_price_en: {}\", [type(d_train_price_en)])\n",
    "_print(\"1.1 Shape of d_train_price_en: {}\", [d_train_price_en.shape])\n",
    "_print(\"1.3 Data insigh of d_train_price_en: {}\\n\", [d_train_price_en[:3]])\n",
    "_print(\"2. Shape of d_cv_price_en: {}\\n\", [d_cv_price_en.shape])\n",
    "_print(\"3. Shape of d_test_price_en: {}\\n\", [d_test_price_en.shape])"
   ]
  },
  {
   "cell_type": "markdown",
   "metadata": {},
   "source": [
    "## [1.4.5] Concatinating all the features"
   ]
  },
  {
   "cell_type": "code",
   "execution_count": null,
   "metadata": {},
   "outputs": [],
   "source": [
    "\"\"\"\n",
    "d_train_school_state_ohe = count_vectorizer_ss.transform(d_train['school_state'])\n",
    "d_cv_school_state_ohe = count_vectorizer_ss.transform(d_cv['school_state'])\n",
    "d_test_school_state_ohe = count_vectorizer_ss.transform(d_test['school_state'])\n",
    "\n",
    "\n",
    "d_train_price_en = normalizer.transform(price_values.reshape(1, -1))\n",
    "d_cv_price_en = normalizer.transform(d_cv['price'].values.reshape(1, -1))\n",
    "d_test_price_en = normalizer.transform(d_test['price'].values.reshape(1, -1))\n",
    "\"\"\""
   ]
  },
  {
   "cell_type": "code",
   "execution_count": null,
   "metadata": {},
   "outputs": [],
   "source": [
    "D_TRAIN = hstack((d_train_school_state_ohe, d_train_price_en.reshape(-1, 1))).tocsr()\n",
    "_print(\"Shape of D_TRAIN: {}\",[D_TRAIN.shape])\n",
    "_print(\"Data type of D_TRAIN: {}\",[type(D_TRAIN)])\n",
    "_print(\"Data insight of D_TRAIN: {}\",[D_TRAIN[:5]])"
   ]
  },
  {
   "cell_type": "code",
   "execution_count": null,
   "metadata": {},
   "outputs": [],
   "source": [
    "D_CV = hstack((d_cv_school_state_ohe, d_cv_price_en.reshape(-1, 1))).tocsr()\n",
    "print(\"Shape of D_CV: {}\",[D_CV.shape])"
   ]
  },
  {
   "cell_type": "code",
   "execution_count": null,
   "metadata": {},
   "outputs": [],
   "source": [
    "D_TEST = hstack((d_test_school_state_ohe, d_test_price_en.reshape(-1, 1))).tocsr()\n",
    "print(\"Shape of D_TEST: {}\",[D_TEST.shape])"
   ]
  },
  {
   "cell_type": "markdown",
   "metadata": {},
   "source": [
    "## [1.5] Applying KNN on different kind of featurization"
   ]
  },
  {
   "cell_type": "markdown",
   "metadata": {},
   "source": [
    "### [1.5.1] Applying KNN : B.O.W featurization"
   ]
  },
  {
   "cell_type": "markdown",
   "metadata": {},
   "source": [
    "#### [1.5.1.1] Hyperparameter tuning"
   ]
  },
  {
   "cell_type": "markdown",
   "metadata": {},
   "source": [
    "##### [1.5.1.1] Method 1"
   ]
  },
  {
   "cell_type": "code",
   "execution_count": null,
   "metadata": {},
   "outputs": [],
   "source": [
    "def batch_predict(clfr, data, batch_size = 1000):\n",
    "    \n",
    "    quotient_num, remainder_num = np.divmod(data.shape[0], batch_size)\n",
    "    loop_upper_limit = data.shape[0] - remainder_num\n",
    "    \n",
    "    y_hat = list()\n",
    "    for i in range(0, loop_upper_limit, batch_size):\n",
    "\n",
    "        _y_hat = clfr.predict_proba(D_TRAIN[i:i+batch_size])[:, 1]\n",
    "        y_hat.extend(_y_hat)\n",
    "\n",
    "    if remainder_num != 0:\n",
    "        _y_hat = clfr.predict_proba(D_TRAIN[i:i+remainder_num])[:, 1]\n",
    "        y_hat.extend(_y_hat)\n",
    "        \n",
    "    return y_hat"
   ]
  },
  {
   "cell_type": "code",
   "execution_count": null,
   "metadata": {},
   "outputs": [],
   "source": [
    "clfr = KNeighborsClassifier()"
   ]
  },
  {
   "cell_type": "code",
   "execution_count": null,
   "metadata": {},
   "outputs": [],
   "source": [
    "neighbors = [3, 5, 10]\n",
    "train_auc, cv_auc = list(), list()\n",
    "for neighbor in neighbors:\n",
    "    \n",
    "    \n",
    "    clfr.n_neighbors = neighbor\n",
    "    clfr.fit(D_TRAIN, y_train)\n",
    "    \n",
    "    y_train_hat = batch_predict(clfr, D_TRAIN)\n",
    "    y_train_score = roc_auc_score(y_train, y_train_hat)\n",
    "    train_auc.append(y_train_score)\n",
    "    \n",
    "    y_cv_hat = batch_predict(clfr, D_CV) \n",
    "    y_cv_score = roc_auc_score(y_cv, y_cv_hat)\n",
    "    cv_auc.append(y_cv_score)\n",
    "print(train_auc, cv_auc)"
   ]
  },
  {
   "cell_type": "code",
   "execution_count": null,
   "metadata": {},
   "outputs": [],
   "source": []
  },
  {
   "cell_type": "markdown",
   "metadata": {},
   "source": []
  },
  {
   "cell_type": "code",
   "execution_count": null,
   "metadata": {},
   "outputs": [],
   "source": []
  },
  {
   "cell_type": "code",
   "execution_count": null,
   "metadata": {},
   "outputs": [],
   "source": []
  },
  {
   "cell_type": "code",
   "execution_count": null,
   "metadata": {},
   "outputs": [],
   "source": []
  },
  {
   "cell_type": "code",
   "execution_count": null,
   "metadata": {},
   "outputs": [],
   "source": []
  },
  {
   "cell_type": "code",
   "execution_count": null,
   "metadata": {},
   "outputs": [],
   "source": []
  },
  {
   "cell_type": "code",
   "execution_count": null,
   "metadata": {},
   "outputs": [],
   "source": []
  },
  {
   "cell_type": "code",
   "execution_count": null,
   "metadata": {},
   "outputs": [],
   "source": []
  },
  {
   "cell_type": "code",
   "execution_count": null,
   "metadata": {},
   "outputs": [],
   "source": []
  },
  {
   "cell_type": "code",
   "execution_count": null,
   "metadata": {},
   "outputs": [],
   "source": []
  },
  {
   "cell_type": "code",
   "execution_count": null,
   "metadata": {},
   "outputs": [],
   "source": []
  },
  {
   "cell_type": "code",
   "execution_count": null,
   "metadata": {},
   "outputs": [],
   "source": []
  },
  {
   "cell_type": "code",
   "execution_count": null,
   "metadata": {},
   "outputs": [],
   "source": []
  },
  {
   "cell_type": "code",
   "execution_count": null,
   "metadata": {},
   "outputs": [],
   "source": []
  },
  {
   "cell_type": "code",
   "execution_count": null,
   "metadata": {},
   "outputs": [],
   "source": []
  },
  {
   "cell_type": "code",
   "execution_count": null,
   "metadata": {},
   "outputs": [],
   "source": []
  },
  {
   "cell_type": "code",
   "execution_count": null,
   "metadata": {},
   "outputs": [],
   "source": []
  },
  {
   "cell_type": "code",
   "execution_count": null,
   "metadata": {},
   "outputs": [],
   "source": []
  },
  {
   "cell_type": "code",
   "execution_count": null,
   "metadata": {},
   "outputs": [],
   "source": []
  },
  {
   "cell_type": "code",
   "execution_count": null,
   "metadata": {},
   "outputs": [],
   "source": []
  },
  {
   "cell_type": "code",
   "execution_count": null,
   "metadata": {},
   "outputs": [],
   "source": []
  }
 ],
 "metadata": {
  "kernelspec": {
   "display_name": "Python 3",
   "language": "python",
   "name": "python3"
  },
  "language_info": {
   "codemirror_mode": {
    "name": "ipython",
    "version": 3
   },
   "file_extension": ".py",
   "mimetype": "text/x-python",
   "name": "python",
   "nbconvert_exporter": "python",
   "pygments_lexer": "ipython3",
   "version": "3.7.0"
  }
 },
 "nbformat": 4,
 "nbformat_minor": 2
}
